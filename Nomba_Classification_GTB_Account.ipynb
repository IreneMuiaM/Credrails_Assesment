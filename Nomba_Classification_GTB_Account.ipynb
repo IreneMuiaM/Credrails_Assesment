{
  "nbformat": 4,
  "nbformat_minor": 0,
  "metadata": {
    "colab": {
      "provenance": [],
      "mount_file_id": "1lTOc37emseFN9GsVNZ99Ai_jI5NBMerr",
      "authorship_tag": "ABX9TyNg65DLSWYTnR48/HcSYQVl",
      "include_colab_link": true
    },
    "kernelspec": {
      "name": "python3",
      "display_name": "Python 3"
    },
    "language_info": {
      "name": "python"
    }
  },
  "cells": [
    {
      "cell_type": "markdown",
      "metadata": {
        "id": "view-in-github",
        "colab_type": "text"
      },
      "source": [
        "<a href=\"https://colab.research.google.com/github/IreneMuiaM/Credrails_Assesment/blob/main/Nomba_Classification_GTB_Account.ipynb\" target=\"_parent\"><img src=\"https://colab.research.google.com/assets/colab-badge.svg\" alt=\"Open In Colab\"/></a>"
      ]
    },
    {
      "cell_type": "code",
      "execution_count": 91,
      "metadata": {
        "id": "Ro1T3Cem2WsZ"
      },
      "outputs": [],
      "source": [
        "from pathlib import Path\n",
        "from google.colab import drive\n",
        "\n",
        "import pandas as pd\n",
        "import json"
      ]
    },
    {
      "cell_type": "code",
      "source": [
        "BASE_DIR=Path().resolve().parent\n",
        "GDRIVE_MOUNT=BASE_DIR/\"gdrive\"\n",
        "DATA_DIR = GDRIVE_MOUNT /\"MyDrive/Classification_MLs/data\"\n",
        "INPUT_DIR = DATA_DIR / \"input\"\n",
        "\n",
        "drive.mount(GDRIVE_MOUNT.as_posix(), force_remount=True)"
      ],
      "metadata": {
        "colab": {
          "base_uri": "https://localhost:8080/"
        },
        "id": "KUkP1Yg537Fe",
        "outputId": "646cd456-92c5-44cb-9753-25e16100e24d"
      },
      "execution_count": null,
      "outputs": [
        {
          "output_type": "stream",
          "name": "stdout",
          "text": [
            "Mounted at /gdrive\n"
          ]
        }
      ]
    },
    {
      "cell_type": "code",
      "source": [
        "NombaGTB_FSP_Account=pd.read_csv(INPUT_DIR/\"Nomba_Classification_acc_3_GTB_fsp.csv\")"
      ],
      "metadata": {
        "id": "yxdhThv960t_"
      },
      "execution_count": null,
      "outputs": []
    },
    {
      "cell_type": "code",
      "source": [
        "NombaGTB_FSP_Account.head(2)"
      ],
      "metadata": {
        "colab": {
          "base_uri": "https://localhost:8080/",
          "height": 231
        },
        "id": "4yNd01T98eQ9",
        "outputId": "8666ffaa-eade-409d-f502-244a14a6ae0e"
      },
      "execution_count": null,
      "outputs": [
        {
          "output_type": "execute_result",
          "data": {
            "text/plain": [
              "          id                transaction_date                      value_date  \\\n",
              "0  170474017  2023-05-03 00:00:00.000000 UTC  2023-05-03 00:00:00.000000 UTC   \n",
              "1  170474018  2023-05-03 00:00:00.000000 UTC  2023-05-03 00:00:00.000000 UTC   \n",
              "\n",
              "  transaction_type    amount amount_currency      balance balance_currency  \\\n",
              "0                C   4657.87             NGN  17416633.12              NGN   \n",
              "1                C  62079.21             NGN  17478712.33              NGN   \n",
              "\n",
              "  matching_reference reporting_tag  ...                         updated  \\\n",
              "0                 []        others  ...  2023-05-04 12:36:37.076009 UTC   \n",
              "1                 []        others  ...  2023-05-04 12:36:37.076009 UTC   \n",
              "\n",
              "   fsp_accounts fsp_transaction_ids  backend_accounts  \\\n",
              "0           NaN                 NaN               NaN   \n",
              "1           NaN                 NaN               NaN   \n",
              "\n",
              "   backend_transaction_ids  other_accounts  other_transaction_ids  \\\n",
              "0                      NaN             NaN                    NaN   \n",
              "1                      NaN             NaN                    NaN   \n",
              "\n",
              "                                            metadata      tags description  \n",
              "0  {original_reference=0fb5beeb-7b8b-4452-8766-89...  [others]         NaN  \n",
              "1  {original_reference=d3ba223e-a477-4776-bd7e-a9...  [others]         NaN  \n",
              "\n",
              "[2 rows x 29 columns]"
            ],
            "text/html": [
              "\n",
              "  <div id=\"df-fc12eb8e-4189-475a-a268-ba7339573ed5\" class=\"colab-df-container\">\n",
              "    <div>\n",
              "<style scoped>\n",
              "    .dataframe tbody tr th:only-of-type {\n",
              "        vertical-align: middle;\n",
              "    }\n",
              "\n",
              "    .dataframe tbody tr th {\n",
              "        vertical-align: top;\n",
              "    }\n",
              "\n",
              "    .dataframe thead th {\n",
              "        text-align: right;\n",
              "    }\n",
              "</style>\n",
              "<table border=\"1\" class=\"dataframe\">\n",
              "  <thead>\n",
              "    <tr style=\"text-align: right;\">\n",
              "      <th></th>\n",
              "      <th>id</th>\n",
              "      <th>transaction_date</th>\n",
              "      <th>value_date</th>\n",
              "      <th>transaction_type</th>\n",
              "      <th>amount</th>\n",
              "      <th>amount_currency</th>\n",
              "      <th>balance</th>\n",
              "      <th>balance_currency</th>\n",
              "      <th>matching_reference</th>\n",
              "      <th>reporting_tag</th>\n",
              "      <th>...</th>\n",
              "      <th>updated</th>\n",
              "      <th>fsp_accounts</th>\n",
              "      <th>fsp_transaction_ids</th>\n",
              "      <th>backend_accounts</th>\n",
              "      <th>backend_transaction_ids</th>\n",
              "      <th>other_accounts</th>\n",
              "      <th>other_transaction_ids</th>\n",
              "      <th>metadata</th>\n",
              "      <th>tags</th>\n",
              "      <th>description</th>\n",
              "    </tr>\n",
              "  </thead>\n",
              "  <tbody>\n",
              "    <tr>\n",
              "      <th>0</th>\n",
              "      <td>170474017</td>\n",
              "      <td>2023-05-03 00:00:00.000000 UTC</td>\n",
              "      <td>2023-05-03 00:00:00.000000 UTC</td>\n",
              "      <td>C</td>\n",
              "      <td>4657.87</td>\n",
              "      <td>NGN</td>\n",
              "      <td>17416633.12</td>\n",
              "      <td>NGN</td>\n",
              "      <td>[]</td>\n",
              "      <td>others</td>\n",
              "      <td>...</td>\n",
              "      <td>2023-05-04 12:36:37.076009 UTC</td>\n",
              "      <td>NaN</td>\n",
              "      <td>NaN</td>\n",
              "      <td>NaN</td>\n",
              "      <td>NaN</td>\n",
              "      <td>NaN</td>\n",
              "      <td>NaN</td>\n",
              "      <td>{original_reference=0fb5beeb-7b8b-4452-8766-89...</td>\n",
              "      <td>[others]</td>\n",
              "      <td>NaN</td>\n",
              "    </tr>\n",
              "    <tr>\n",
              "      <th>1</th>\n",
              "      <td>170474018</td>\n",
              "      <td>2023-05-03 00:00:00.000000 UTC</td>\n",
              "      <td>2023-05-03 00:00:00.000000 UTC</td>\n",
              "      <td>C</td>\n",
              "      <td>62079.21</td>\n",
              "      <td>NGN</td>\n",
              "      <td>17478712.33</td>\n",
              "      <td>NGN</td>\n",
              "      <td>[]</td>\n",
              "      <td>others</td>\n",
              "      <td>...</td>\n",
              "      <td>2023-05-04 12:36:37.076009 UTC</td>\n",
              "      <td>NaN</td>\n",
              "      <td>NaN</td>\n",
              "      <td>NaN</td>\n",
              "      <td>NaN</td>\n",
              "      <td>NaN</td>\n",
              "      <td>NaN</td>\n",
              "      <td>{original_reference=d3ba223e-a477-4776-bd7e-a9...</td>\n",
              "      <td>[others]</td>\n",
              "      <td>NaN</td>\n",
              "    </tr>\n",
              "  </tbody>\n",
              "</table>\n",
              "<p>2 rows × 29 columns</p>\n",
              "</div>\n",
              "    <div class=\"colab-df-buttons\">\n",
              "\n",
              "  <div class=\"colab-df-container\">\n",
              "    <button class=\"colab-df-convert\" onclick=\"convertToInteractive('df-fc12eb8e-4189-475a-a268-ba7339573ed5')\"\n",
              "            title=\"Convert this dataframe to an interactive table.\"\n",
              "            style=\"display:none;\">\n",
              "\n",
              "  <svg xmlns=\"http://www.w3.org/2000/svg\" height=\"24px\" viewBox=\"0 -960 960 960\">\n",
              "    <path d=\"M120-120v-720h720v720H120Zm60-500h600v-160H180v160Zm220 220h160v-160H400v160Zm0 220h160v-160H400v160ZM180-400h160v-160H180v160Zm440 0h160v-160H620v160ZM180-180h160v-160H180v160Zm440 0h160v-160H620v160Z\"/>\n",
              "  </svg>\n",
              "    </button>\n",
              "\n",
              "  <style>\n",
              "    .colab-df-container {\n",
              "      display:flex;\n",
              "      gap: 12px;\n",
              "    }\n",
              "\n",
              "    .colab-df-convert {\n",
              "      background-color: #E8F0FE;\n",
              "      border: none;\n",
              "      border-radius: 50%;\n",
              "      cursor: pointer;\n",
              "      display: none;\n",
              "      fill: #1967D2;\n",
              "      height: 32px;\n",
              "      padding: 0 0 0 0;\n",
              "      width: 32px;\n",
              "    }\n",
              "\n",
              "    .colab-df-convert:hover {\n",
              "      background-color: #E2EBFA;\n",
              "      box-shadow: 0px 1px 2px rgba(60, 64, 67, 0.3), 0px 1px 3px 1px rgba(60, 64, 67, 0.15);\n",
              "      fill: #174EA6;\n",
              "    }\n",
              "\n",
              "    .colab-df-buttons div {\n",
              "      margin-bottom: 4px;\n",
              "    }\n",
              "\n",
              "    [theme=dark] .colab-df-convert {\n",
              "      background-color: #3B4455;\n",
              "      fill: #D2E3FC;\n",
              "    }\n",
              "\n",
              "    [theme=dark] .colab-df-convert:hover {\n",
              "      background-color: #434B5C;\n",
              "      box-shadow: 0px 1px 3px 1px rgba(0, 0, 0, 0.15);\n",
              "      filter: drop-shadow(0px 1px 2px rgba(0, 0, 0, 0.3));\n",
              "      fill: #FFFFFF;\n",
              "    }\n",
              "  </style>\n",
              "\n",
              "    <script>\n",
              "      const buttonEl =\n",
              "        document.querySelector('#df-fc12eb8e-4189-475a-a268-ba7339573ed5 button.colab-df-convert');\n",
              "      buttonEl.style.display =\n",
              "        google.colab.kernel.accessAllowed ? 'block' : 'none';\n",
              "\n",
              "      async function convertToInteractive(key) {\n",
              "        const element = document.querySelector('#df-fc12eb8e-4189-475a-a268-ba7339573ed5');\n",
              "        const dataTable =\n",
              "          await google.colab.kernel.invokeFunction('convertToInteractive',\n",
              "                                                    [key], {});\n",
              "        if (!dataTable) return;\n",
              "\n",
              "        const docLinkHtml = 'Like what you see? Visit the ' +\n",
              "          '<a target=\"_blank\" href=https://colab.research.google.com/notebooks/data_table.ipynb>data table notebook</a>'\n",
              "          + ' to learn more about interactive tables.';\n",
              "        element.innerHTML = '';\n",
              "        dataTable['output_type'] = 'display_data';\n",
              "        await google.colab.output.renderOutput(dataTable, element);\n",
              "        const docLink = document.createElement('div');\n",
              "        docLink.innerHTML = docLinkHtml;\n",
              "        element.appendChild(docLink);\n",
              "      }\n",
              "    </script>\n",
              "  </div>\n",
              "\n",
              "\n",
              "<div id=\"df-8a2a0a86-226d-4f8e-9947-c9d07333ca2f\">\n",
              "  <button class=\"colab-df-quickchart\" onclick=\"quickchart('df-8a2a0a86-226d-4f8e-9947-c9d07333ca2f')\"\n",
              "            title=\"Suggest charts\"\n",
              "            style=\"display:none;\">\n",
              "\n",
              "<svg xmlns=\"http://www.w3.org/2000/svg\" height=\"24px\"viewBox=\"0 0 24 24\"\n",
              "     width=\"24px\">\n",
              "    <g>\n",
              "        <path d=\"M19 3H5c-1.1 0-2 .9-2 2v14c0 1.1.9 2 2 2h14c1.1 0 2-.9 2-2V5c0-1.1-.9-2-2-2zM9 17H7v-7h2v7zm4 0h-2V7h2v10zm4 0h-2v-4h2v4z\"/>\n",
              "    </g>\n",
              "</svg>\n",
              "  </button>\n",
              "\n",
              "<style>\n",
              "  .colab-df-quickchart {\n",
              "      --bg-color: #E8F0FE;\n",
              "      --fill-color: #1967D2;\n",
              "      --hover-bg-color: #E2EBFA;\n",
              "      --hover-fill-color: #174EA6;\n",
              "      --disabled-fill-color: #AAA;\n",
              "      --disabled-bg-color: #DDD;\n",
              "  }\n",
              "\n",
              "  [theme=dark] .colab-df-quickchart {\n",
              "      --bg-color: #3B4455;\n",
              "      --fill-color: #D2E3FC;\n",
              "      --hover-bg-color: #434B5C;\n",
              "      --hover-fill-color: #FFFFFF;\n",
              "      --disabled-bg-color: #3B4455;\n",
              "      --disabled-fill-color: #666;\n",
              "  }\n",
              "\n",
              "  .colab-df-quickchart {\n",
              "    background-color: var(--bg-color);\n",
              "    border: none;\n",
              "    border-radius: 50%;\n",
              "    cursor: pointer;\n",
              "    display: none;\n",
              "    fill: var(--fill-color);\n",
              "    height: 32px;\n",
              "    padding: 0;\n",
              "    width: 32px;\n",
              "  }\n",
              "\n",
              "  .colab-df-quickchart:hover {\n",
              "    background-color: var(--hover-bg-color);\n",
              "    box-shadow: 0 1px 2px rgba(60, 64, 67, 0.3), 0 1px 3px 1px rgba(60, 64, 67, 0.15);\n",
              "    fill: var(--button-hover-fill-color);\n",
              "  }\n",
              "\n",
              "  .colab-df-quickchart-complete:disabled,\n",
              "  .colab-df-quickchart-complete:disabled:hover {\n",
              "    background-color: var(--disabled-bg-color);\n",
              "    fill: var(--disabled-fill-color);\n",
              "    box-shadow: none;\n",
              "  }\n",
              "\n",
              "  .colab-df-spinner {\n",
              "    border: 2px solid var(--fill-color);\n",
              "    border-color: transparent;\n",
              "    border-bottom-color: var(--fill-color);\n",
              "    animation:\n",
              "      spin 1s steps(1) infinite;\n",
              "  }\n",
              "\n",
              "  @keyframes spin {\n",
              "    0% {\n",
              "      border-color: transparent;\n",
              "      border-bottom-color: var(--fill-color);\n",
              "      border-left-color: var(--fill-color);\n",
              "    }\n",
              "    20% {\n",
              "      border-color: transparent;\n",
              "      border-left-color: var(--fill-color);\n",
              "      border-top-color: var(--fill-color);\n",
              "    }\n",
              "    30% {\n",
              "      border-color: transparent;\n",
              "      border-left-color: var(--fill-color);\n",
              "      border-top-color: var(--fill-color);\n",
              "      border-right-color: var(--fill-color);\n",
              "    }\n",
              "    40% {\n",
              "      border-color: transparent;\n",
              "      border-right-color: var(--fill-color);\n",
              "      border-top-color: var(--fill-color);\n",
              "    }\n",
              "    60% {\n",
              "      border-color: transparent;\n",
              "      border-right-color: var(--fill-color);\n",
              "    }\n",
              "    80% {\n",
              "      border-color: transparent;\n",
              "      border-right-color: var(--fill-color);\n",
              "      border-bottom-color: var(--fill-color);\n",
              "    }\n",
              "    90% {\n",
              "      border-color: transparent;\n",
              "      border-bottom-color: var(--fill-color);\n",
              "    }\n",
              "  }\n",
              "</style>\n",
              "\n",
              "  <script>\n",
              "    async function quickchart(key) {\n",
              "      const quickchartButtonEl =\n",
              "        document.querySelector('#' + key + ' button');\n",
              "      quickchartButtonEl.disabled = true;  // To prevent multiple clicks.\n",
              "      quickchartButtonEl.classList.add('colab-df-spinner');\n",
              "      try {\n",
              "        const charts = await google.colab.kernel.invokeFunction(\n",
              "            'suggestCharts', [key], {});\n",
              "      } catch (error) {\n",
              "        console.error('Error during call to suggestCharts:', error);\n",
              "      }\n",
              "      quickchartButtonEl.classList.remove('colab-df-spinner');\n",
              "      quickchartButtonEl.classList.add('colab-df-quickchart-complete');\n",
              "    }\n",
              "    (() => {\n",
              "      let quickchartButtonEl =\n",
              "        document.querySelector('#df-8a2a0a86-226d-4f8e-9947-c9d07333ca2f button');\n",
              "      quickchartButtonEl.style.display =\n",
              "        google.colab.kernel.accessAllowed ? 'block' : 'none';\n",
              "    })();\n",
              "  </script>\n",
              "</div>\n",
              "\n",
              "    </div>\n",
              "  </div>\n"
            ],
            "application/vnd.google.colaboratory.intrinsic+json": {
              "type": "dataframe",
              "variable_name": "NombaGTB_FSP_Account"
            }
          },
          "metadata": {},
          "execution_count": 5
        }
      ]
    },
    {
      "cell_type": "code",
      "source": [
        "import ast\n",
        "import re\n",
        "\n",
        "# Extracting metadata - original_reference and tags\n",
        "\n",
        "def column_extract(df):\n",
        "  df[\"metadata2\"]=df[\"metadata\"].apply(lambda x: x.replace(\"=\",\" : \"))\n",
        "  df[\"metadata2\"] = df[\"metadata2\"].str.replace('{', '{\"').str.replace(', ', ', \"').str.replace(' :', '\":')\n",
        "  df[\"metadata2\"] = \\\n",
        "  df[\"metadata2\"].str.replace('}', '\"}').str.replace(': ', ': \"').str.replace(', \"', '\", ').str.replace(', ',', \"').str.replace('\"[','[').str.replace(']\"',']')\n",
        "  df[\"metadata2\"] = df[\"metadata2\"].apply(lambda x: ast.literal_eval(x))\n",
        "\n",
        "  df['O_reference'] = df['metadata2'].apply(lambda x: x.get('original_reference', None))\n",
        "  df['Extract_tag'] = df['metadata2'].apply(lambda x: x.get('tags', None))\n",
        "  return df\n",
        "\n",
        "# Extracting reference number\n",
        "\n",
        "def ref_extract(df):\n",
        "  df['ref_no']=df[\"description\"].str.extract(r'REF:([^\\s]+)',flags=re.IGNORECARE)\n",
        "  return df\n"
      ],
      "metadata": {
        "id": "PNVWQ5bF-Jwm"
      },
      "execution_count": null,
      "outputs": []
    },
    {
      "cell_type": "code",
      "source": [
        "NombaGTB_FSP_Account2=column_extract(NombaGTB_FSP_Account)"
      ],
      "metadata": {
        "id": "pP2lmypICepq"
      },
      "execution_count": null,
      "outputs": []
    },
    {
      "cell_type": "code",
      "source": [
        "NombaGTB_FSP_Account2.columns"
      ],
      "metadata": {
        "colab": {
          "base_uri": "https://localhost:8080/"
        },
        "id": "tQhgN0xs8Ull",
        "outputId": "11297128-38b3-4b43-a655-bf08c4ec78dd"
      },
      "execution_count": null,
      "outputs": [
        {
          "output_type": "execute_result",
          "data": {
            "text/plain": [
              "Index(['id', 'transaction_date', 'value_date', 'transaction_type', 'amount',\n",
              "       'amount_currency', 'balance', 'balance_currency', 'matching_reference',\n",
              "       'reporting_tag', 'is_reversal', 'is_duplicate',\n",
              "       'is_duplicate_parent_reference', 'matched', 'reversal', 'client_id',\n",
              "       'account_id', 'batch_id', 'created', 'updated', 'fsp_accounts',\n",
              "       'fsp_transaction_ids', 'backend_accounts', 'backend_transaction_ids',\n",
              "       'other_accounts', 'other_transaction_ids', 'metadata', 'tags',\n",
              "       'description', 'metadata2', 'O_reference', 'Extract_tag'],\n",
              "      dtype='object')"
            ]
          },
          "metadata": {},
          "execution_count": 70
        }
      ]
    },
    {
      "cell_type": "code",
      "source": [
        "# unique tags\n",
        "NombaGTB_FSP_Account2['tags'].unique()"
      ],
      "metadata": {
        "colab": {
          "base_uri": "https://localhost:8080/"
        },
        "id": "_3Rj_fkPFMMd",
        "outputId": "e498a3bb-5f1b-465f-c3b0-1fe6774ee6f6"
      },
      "execution_count": null,
      "outputs": [
        {
          "output_type": "execute_result",
          "data": {
            "text/plain": [
              "array(['others', 'chargebacks', 'transfers', 'charges', 'withdrawals'],\n",
              "      dtype=object)"
            ]
          },
          "metadata": {},
          "execution_count": 71
        }
      ]
    },
    {
      "cell_type": "code",
      "source": [
        "# Cleaning_tag_names\n",
        "def clean_tag(df):\n",
        "  df['tags'] = df['tags'].str.replace(\"unknown_pattern\",\"\").str.replace(\"no_ref\",\"\").str.replace(r'[^a-zA-Z0-9\\s]', '', regex=True).str.lower()\n",
        "  return df"
      ],
      "metadata": {
        "id": "yx4gGT7GFwo7"
      },
      "execution_count": null,
      "outputs": []
    },
    {
      "cell_type": "code",
      "source": [
        "NombaGTB_FSP_Account3=clean_tag(NombaGTB_FSP_Account2)"
      ],
      "metadata": {
        "id": "a7Wt1wVsH-xf"
      },
      "execution_count": null,
      "outputs": []
    },
    {
      "cell_type": "code",
      "source": [
        "NombaGTB_FSP_Account3['tags'].unique()"
      ],
      "metadata": {
        "colab": {
          "base_uri": "https://localhost:8080/"
        },
        "id": "TmQPBciGID4k",
        "outputId": "a86aa528-d891-4d58-c06c-5a28259188ac"
      },
      "execution_count": null,
      "outputs": [
        {
          "output_type": "execute_result",
          "data": {
            "text/plain": [
              "array(['others', 'chargebacks', 'transfers', 'charges', 'withdrawals'],\n",
              "      dtype=object)"
            ]
          },
          "metadata": {},
          "execution_count": 74
        }
      ]
    },
    {
      "cell_type": "code",
      "source": [
        "# Filter data for training\n",
        "def filter_data(df):\n",
        "  df=df.loc[(df['tags']!='others') & (df['description']!= None)]\n",
        "  df_cleaned=df.dropna(axis=0,subset=['description'])\n",
        "  return df_cleaned\n",
        "\n",
        "def filter_data2(df):\n",
        "  df_cleaned=df.dropna(axis=0,subset=['description'])\n",
        "  return df_cleaned"
      ],
      "metadata": {
        "id": "oC5hTSk2Jqfq"
      },
      "execution_count": 123,
      "outputs": []
    },
    {
      "cell_type": "code",
      "source": [
        "NombaGTB_FSP_Account4=filter_data(NombaGTB_FSP_Account3)\n",
        "NombaGTB_FSP_Account3_1=filter_data2(NombaGTB_FSP_Account3)\n",
        "print(NombaGTB_FSP_Account3.shape)\n",
        "print(NombaGTB_FSP_Account4.shape)\n",
        "print(NombaGTB_FSP_Account3_1.shape)"
      ],
      "metadata": {
        "colab": {
          "base_uri": "https://localhost:8080/"
        },
        "id": "_qLudpaxKdZj",
        "outputId": "a8c79b13-cbe7-4956-dfd1-e7fbe38ee7d0"
      },
      "execution_count": 125,
      "outputs": [
        {
          "output_type": "stream",
          "name": "stdout",
          "text": [
            "(30200, 32)\n",
            "(768, 32)\n",
            "(941, 32)\n"
          ]
        }
      ]
    },
    {
      "cell_type": "code",
      "source": [
        "NombaGTB_FSP_Account4['tags'].unique()"
      ],
      "metadata": {
        "colab": {
          "base_uri": "https://localhost:8080/"
        },
        "id": "H5CY_IEq4qK0",
        "outputId": "ab5777a8-7f15-40c4-ec12-25ec6cd16fdf"
      },
      "execution_count": 126,
      "outputs": [
        {
          "output_type": "execute_result",
          "data": {
            "text/plain": [
              "array(['transfers', 'charges', 'withdrawals'], dtype=object)"
            ]
          },
          "metadata": {},
          "execution_count": 126
        }
      ]
    },
    {
      "cell_type": "code",
      "source": [
        "# @title Model Training\n",
        "\n",
        "# Import required libraries\n",
        "import pandas as pd\n",
        "import seaborn as sns\n",
        "import matplotlib.pyplot as plt\n",
        "from sklearn.model_selection import train_test_split\n",
        "from sklearn.feature_extraction.text import TfidfVectorizer\n",
        "from sklearn.naive_bayes import MultinomialNB\n",
        "from sklearn.metrics import confusion_matrix,accuracy_score, classification_report"
      ],
      "metadata": {
        "id": "VSC09q-NLFuT"
      },
      "execution_count": 127,
      "outputs": []
    },
    {
      "cell_type": "code",
      "source": [
        "#@title Data Preprocessing\n",
        "NombaGTB_FSP_Account4['description']=NombaGTB_FSP_Account4['description'].str.lower()"
      ],
      "metadata": {
        "id": "SpllOW4CPRyQ"
      },
      "execution_count": 128,
      "outputs": []
    },
    {
      "cell_type": "code",
      "source": [
        "# Split_data\n",
        "\n",
        "x_train,x_test,y_train,y_test=train_test_split(NombaGTB_FSP_Account4['description'],NombaGTB_FSP_Account4['tags'],test_size=0.3,random_state=42)\n",
        "\n",
        "# Feature extraction using TF-IDF Vectorizer\n",
        "vectorizer=TfidfVectorizer()\n",
        "x_train_tfidf=vectorizer.fit_transform(x_train)\n",
        "x_test_tfidf=vectorizer.transform(x_test)\n",
        "\n",
        "# Train Naive Bayes Model\n",
        "nb=MultinomialNB()\n",
        "nb.fit(x_train_tfidf,y_train)\n",
        "\n",
        "# Make prediction\n",
        "y_pred=nb.predict(x_test_tfidf)\n",
        "\n",
        "# Evaluate the model\n",
        "accuracy=accuracy_score(y_test,y_pred)\n",
        "report=classification_report(y_test,y_pred)\n",
        "\n",
        "#ouptut results\n",
        "\n",
        "print(\"Accuracy\",accuracy)\n",
        "print(\"classification Report:\\n\",report)"
      ],
      "metadata": {
        "colab": {
          "base_uri": "https://localhost:8080/"
        },
        "id": "3H1ey7AKU-5u",
        "outputId": "c74ec33e-b6c7-4ac9-89ce-bba418801565"
      },
      "execution_count": 129,
      "outputs": [
        {
          "output_type": "stream",
          "name": "stdout",
          "text": [
            "Accuracy 0.9956709956709957\n",
            "classification Report:\n",
            "               precision    recall  f1-score   support\n",
            "\n",
            "     charges       1.00      1.00      1.00        48\n",
            "   transfers       0.99      1.00      1.00       182\n",
            " withdrawals       0.00      0.00      0.00         1\n",
            "\n",
            "    accuracy                           1.00       231\n",
            "   macro avg       0.66      0.67      0.67       231\n",
            "weighted avg       0.99      1.00      0.99       231\n",
            "\n"
          ]
        },
        {
          "output_type": "stream",
          "name": "stderr",
          "text": [
            "/usr/local/lib/python3.10/dist-packages/sklearn/metrics/_classification.py:1471: UndefinedMetricWarning: Precision and F-score are ill-defined and being set to 0.0 in labels with no predicted samples. Use `zero_division` parameter to control this behavior.\n",
            "  _warn_prf(average, modifier, msg_start, len(result))\n",
            "/usr/local/lib/python3.10/dist-packages/sklearn/metrics/_classification.py:1471: UndefinedMetricWarning: Precision and F-score are ill-defined and being set to 0.0 in labels with no predicted samples. Use `zero_division` parameter to control this behavior.\n",
            "  _warn_prf(average, modifier, msg_start, len(result))\n",
            "/usr/local/lib/python3.10/dist-packages/sklearn/metrics/_classification.py:1471: UndefinedMetricWarning: Precision and F-score are ill-defined and being set to 0.0 in labels with no predicted samples. Use `zero_division` parameter to control this behavior.\n",
            "  _warn_prf(average, modifier, msg_start, len(result))\n"
          ]
        }
      ]
    },
    {
      "cell_type": "code",
      "source": [
        "plt.figure(figsize=(10,5))\n",
        "matrix=confusion_matrix(y_test,y_pred)\n",
        "sns.heatmap(matrix,annot=True,fmt='d',xticklabels=NombaGTB_FSP_Account4['tags'].unique(),yticklabels=NombaGTB_FSP_Account4['tags'].unique())\n",
        "plt.xlabel('Predicted Labels')\n",
        "plt.ylabel('True Labels')\n",
        "plt.title('Confusion Matrix')\n",
        "plt.show()"
      ],
      "metadata": {
        "colab": {
          "base_uri": "https://localhost:8080/",
          "height": 487
        },
        "id": "Ocj_U09U2QSE",
        "outputId": "e5b9efd5-3e5a-4fab-f879-32daa0a5d153"
      },
      "execution_count": 130,
      "outputs": [
        {
          "output_type": "display_data",
          "data": {
            "text/plain": [
              "<Figure size 1000x500 with 2 Axes>"
            ],
            "image/png": "[encoded data removed]"
          },
          "metadata": {}
        }
      ]
    },
    {
      "cell_type": "code",
      "source": [
        "def ouput(df):\n",
        "  df['predicted_tags']=nb.predict(vectorizer.transform(df['description']))\n",
        "  df['correct_classification']=df.apply(lambda row : row['predicted_tags']==row[\"tags\"], axis=1)\n",
        "  return df"
      ],
      "metadata": {
        "id": "h_kXFJjUYXMD"
      },
      "execution_count": 131,
      "outputs": []
    },
    {
      "cell_type": "code",
      "source": [
        "NombaGTB_FSP_ouput=ouput(NombaGTB_FSP_Account4)\n",
        "NombaGTB_FSP_ouput2=ouput(NombaGTB_FSP_Account3_1)"
      ],
      "metadata": {
        "colab": {
          "base_uri": "https://localhost:8080/"
        },
        "id": "GzD4zhyHu6Kr",
        "outputId": "9166e283-1dae-4fb2-94f7-3aa0dba91487"
      },
      "execution_count": 132,
      "outputs": [
        {
          "output_type": "stream",
          "name": "stderr",
          "text": [
            "<ipython-input-131-3afe88336464>:2: SettingWithCopyWarning: \n",
            "A value is trying to be set on a copy of a slice from a DataFrame.\n",
            "Try using .loc[row_indexer,col_indexer] = value instead\n",
            "\n",
            "See the caveats in the documentation: https://pandas.pydata.org/pandas-docs/stable/user_guide/indexing.html#returning-a-view-versus-a-copy\n",
            "  df['predicted_tags']=nb.predict(vectorizer.transform(df['description']))\n",
            "<ipython-input-131-3afe88336464>:3: SettingWithCopyWarning: \n",
            "A value is trying to be set on a copy of a slice from a DataFrame.\n",
            "Try using .loc[row_indexer,col_indexer] = value instead\n",
            "\n",
            "See the caveats in the documentation: https://pandas.pydata.org/pandas-docs/stable/user_guide/indexing.html#returning-a-view-versus-a-copy\n",
            "  df['correct_classification']=df.apply(lambda row : row['predicted_tags']==row[\"tags\"], axis=1)\n"
          ]
        }
      ]
    },
    {
      "cell_type": "code",
      "source": [
        "NombaGTB_FSP_ouput[\"correct_classification\"].value_counts()"
      ],
      "metadata": {
        "colab": {
          "base_uri": "https://localhost:8080/",
          "height": 178
        },
        "id": "uaqkjxKUwJKe",
        "outputId": "50cce0e7-8b06-4f6a-8bbd-4901b0ec9bfc"
      },
      "execution_count": 133,
      "outputs": [
        {
          "output_type": "execute_result",
          "data": {
            "text/plain": [
              "correct_classification\n",
              "True     766\n",
              "False      2\n",
              "Name: count, dtype: int64"
            ],
            "text/html": [
              "<div>\n",
              "<style scoped>\n",
              "    .dataframe tbody tr th:only-of-type {\n",
              "        vertical-align: middle;\n",
              "    }\n",
              "\n",
              "    .dataframe tbody tr th {\n",
              "        vertical-align: top;\n",
              "    }\n",
              "\n",
              "    .dataframe thead th {\n",
              "        text-align: right;\n",
              "    }\n",
              "</style>\n",
              "<table border=\"1\" class=\"dataframe\">\n",
              "  <thead>\n",
              "    <tr style=\"text-align: right;\">\n",
              "      <th></th>\n",
              "      <th>count</th>\n",
              "    </tr>\n",
              "    <tr>\n",
              "      <th>correct_classification</th>\n",
              "      <th></th>\n",
              "    </tr>\n",
              "  </thead>\n",
              "  <tbody>\n",
              "    <tr>\n",
              "      <th>True</th>\n",
              "      <td>766</td>\n",
              "    </tr>\n",
              "    <tr>\n",
              "      <th>False</th>\n",
              "      <td>2</td>\n",
              "    </tr>\n",
              "  </tbody>\n",
              "</table>\n",
              "</div><br><label><b>dtype:</b> int64</label>"
            ]
          },
          "metadata": {},
          "execution_count": 133
        }
      ]
    },
    {
      "cell_type": "code",
      "source": [
        "example=NombaGTB_FSP_ouput.loc[NombaGTB_FSP_ouput[\"correct_classification\"]==False]\n",
        "example[['description',\"predicted_tags\",\"tags\"]]"
      ],
      "metadata": {
        "colab": {
          "base_uri": "https://localhost:8080/",
          "height": 112
        },
        "id": "yhC7FAi6waRI",
        "outputId": "8350fcb4-ebca-43eb-df57-81114011c489"
      },
      "execution_count": 122,
      "outputs": [
        {
          "output_type": "execute_result",
          "data": {
            "text/plain": [
              "                                            description predicted_tags  \\\n",
              "1746  d | other transaction rvsl of duplicated neft/...      transfers   \n",
              "1747  d | other transaction rvsl of duplicated neft/...      transfers   \n",
              "\n",
              "             tags  \n",
              "1746  withdrawals  \n",
              "1747  withdrawals  "
            ],
            "text/html": [
              "\n",
              "  <div id=\"df-43177bee-dd68-4897-9c0f-08b759f881f2\" class=\"colab-df-container\">\n",
              "    <div>\n",
              "<style scoped>\n",
              "    .dataframe tbody tr th:only-of-type {\n",
              "        vertical-align: middle;\n",
              "    }\n",
              "\n",
              "    .dataframe tbody tr th {\n",
              "        vertical-align: top;\n",
              "    }\n",
              "\n",
              "    .dataframe thead th {\n",
              "        text-align: right;\n",
              "    }\n",
              "</style>\n",
              "<table border=\"1\" class=\"dataframe\">\n",
              "  <thead>\n",
              "    <tr style=\"text-align: right;\">\n",
              "      <th></th>\n",
              "      <th>description</th>\n",
              "      <th>predicted_tags</th>\n",
              "      <th>tags</th>\n",
              "    </tr>\n",
              "  </thead>\n",
              "  <tbody>\n",
              "    <tr>\n",
              "      <th>1746</th>\n",
              "      <td>d | other transaction rvsl of duplicated neft/...</td>\n",
              "      <td>transfers</td>\n",
              "      <td>withdrawals</td>\n",
              "    </tr>\n",
              "    <tr>\n",
              "      <th>1747</th>\n",
              "      <td>d | other transaction rvsl of duplicated neft/...</td>\n",
              "      <td>transfers</td>\n",
              "      <td>withdrawals</td>\n",
              "    </tr>\n",
              "  </tbody>\n",
              "</table>\n",
              "</div>\n",
              "    <div class=\"colab-df-buttons\">\n",
              "\n",
              "  <div class=\"colab-df-container\">\n",
              "    <button class=\"colab-df-convert\" onclick=\"convertToInteractive('df-43177bee-dd68-4897-9c0f-08b759f881f2')\"\n",
              "            title=\"Convert this dataframe to an interactive table.\"\n",
              "            style=\"display:none;\">\n",
              "\n",
              "  <svg xmlns=\"http://www.w3.org/2000/svg\" height=\"24px\" viewBox=\"0 -960 960 960\">\n",
              "    <path d=\"M120-120v-720h720v720H120Zm60-500h600v-160H180v160Zm220 220h160v-160H400v160Zm0 220h160v-160H400v160ZM180-400h160v-160H180v160Zm440 0h160v-160H620v160ZM180-180h160v-160H180v160Zm440 0h160v-160H620v160Z\"/>\n",
              "  </svg>\n",
              "    </button>\n",
              "\n",
              "  <style>\n",
              "    .colab-df-container {\n",
              "      display:flex;\n",
              "      gap: 12px;\n",
              "    }\n",
              "\n",
              "    .colab-df-convert {\n",
              "      background-color: #E8F0FE;\n",
              "      border: none;\n",
              "      border-radius: 50%;\n",
              "      cursor: pointer;\n",
              "      display: none;\n",
              "      fill: #1967D2;\n",
              "      height: 32px;\n",
              "      padding: 0 0 0 0;\n",
              "      width: 32px;\n",
              "    }\n",
              "\n",
              "    .colab-df-convert:hover {\n",
              "      background-color: #E2EBFA;\n",
              "      box-shadow: 0px 1px 2px rgba(60, 64, 67, 0.3), 0px 1px 3px 1px rgba(60, 64, 67, 0.15);\n",
              "      fill: #174EA6;\n",
              "    }\n",
              "\n",
              "    .colab-df-buttons div {\n",
              "      margin-bottom: 4px;\n",
              "    }\n",
              "\n",
              "    [theme=dark] .colab-df-convert {\n",
              "      background-color: #3B4455;\n",
              "      fill: #D2E3FC;\n",
              "    }\n",
              "\n",
              "    [theme=dark] .colab-df-convert:hover {\n",
              "      background-color: #434B5C;\n",
              "      box-shadow: 0px 1px 3px 1px rgba(0, 0, 0, 0.15);\n",
              "      filter: drop-shadow(0px 1px 2px rgba(0, 0, 0, 0.3));\n",
              "      fill: #FFFFFF;\n",
              "    }\n",
              "  </style>\n",
              "\n",
              "    <script>\n",
              "      const buttonEl =\n",
              "        document.querySelector('#df-43177bee-dd68-4897-9c0f-08b759f881f2 button.colab-df-convert');\n",
              "      buttonEl.style.display =\n",
              "        google.colab.kernel.accessAllowed ? 'block' : 'none';\n",
              "\n",
              "      async function convertToInteractive(key) {\n",
              "        const element = document.querySelector('#df-43177bee-dd68-4897-9c0f-08b759f881f2');\n",
              "        const dataTable =\n",
              "          await google.colab.kernel.invokeFunction('convertToInteractive',\n",
              "                                                    [key], {});\n",
              "        if (!dataTable) return;\n",
              "\n",
              "        const docLinkHtml = 'Like what you see? Visit the ' +\n",
              "          '<a target=\"_blank\" href=https://colab.research.google.com/notebooks/data_table.ipynb>data table notebook</a>'\n",
              "          + ' to learn more about interactive tables.';\n",
              "        element.innerHTML = '';\n",
              "        dataTable['output_type'] = 'display_data';\n",
              "        await google.colab.output.renderOutput(dataTable, element);\n",
              "        const docLink = document.createElement('div');\n",
              "        docLink.innerHTML = docLinkHtml;\n",
              "        element.appendChild(docLink);\n",
              "      }\n",
              "    </script>\n",
              "  </div>\n",
              "\n",
              "\n",
              "<div id=\"df-e27c2c03-6868-4004-abf3-f9073f86c722\">\n",
              "  <button class=\"colab-df-quickchart\" onclick=\"quickchart('df-e27c2c03-6868-4004-abf3-f9073f86c722')\"\n",
              "            title=\"Suggest charts\"\n",
              "            style=\"display:none;\">\n",
              "\n",
              "<svg xmlns=\"http://www.w3.org/2000/svg\" height=\"24px\"viewBox=\"0 0 24 24\"\n",
              "     width=\"24px\">\n",
              "    <g>\n",
              "        <path d=\"M19 3H5c-1.1 0-2 .9-2 2v14c0 1.1.9 2 2 2h14c1.1 0 2-.9 2-2V5c0-1.1-.9-2-2-2zM9 17H7v-7h2v7zm4 0h-2V7h2v10zm4 0h-2v-4h2v4z\"/>\n",
              "    </g>\n",
              "</svg>\n",
              "  </button>\n",
              "\n",
              "<style>\n",
              "  .colab-df-quickchart {\n",
              "      --bg-color: #E8F0FE;\n",
              "      --fill-color: #1967D2;\n",
              "      --hover-bg-color: #E2EBFA;\n",
              "      --hover-fill-color: #174EA6;\n",
              "      --disabled-fill-color: #AAA;\n",
              "      --disabled-bg-color: #DDD;\n",
              "  }\n",
              "\n",
              "  [theme=dark] .colab-df-quickchart {\n",
              "      --bg-color: #3B4455;\n",
              "      --fill-color: #D2E3FC;\n",
              "      --hover-bg-color: #434B5C;\n",
              "      --hover-fill-color: #FFFFFF;\n",
              "      --disabled-bg-color: #3B4455;\n",
              "      --disabled-fill-color: #666;\n",
              "  }\n",
              "\n",
              "  .colab-df-quickchart {\n",
              "    background-color: var(--bg-color);\n",
              "    border: none;\n",
              "    border-radius: 50%;\n",
              "    cursor: pointer;\n",
              "    display: none;\n",
              "    fill: var(--fill-color);\n",
              "    height: 32px;\n",
              "    padding: 0;\n",
              "    width: 32px;\n",
              "  }\n",
              "\n",
              "  .colab-df-quickchart:hover {\n",
              "    background-color: var(--hover-bg-color);\n",
              "    box-shadow: 0 1px 2px rgba(60, 64, 67, 0.3), 0 1px 3px 1px rgba(60, 64, 67, 0.15);\n",
              "    fill: var(--button-hover-fill-color);\n",
              "  }\n",
              "\n",
              "  .colab-df-quickchart-complete:disabled,\n",
              "  .colab-df-quickchart-complete:disabled:hover {\n",
              "    background-color: var(--disabled-bg-color);\n",
              "    fill: var(--disabled-fill-color);\n",
              "    box-shadow: none;\n",
              "  }\n",
              "\n",
              "  .colab-df-spinner {\n",
              "    border: 2px solid var(--fill-color);\n",
              "    border-color: transparent;\n",
              "    border-bottom-color: var(--fill-color);\n",
              "    animation:\n",
              "      spin 1s steps(1) infinite;\n",
              "  }\n",
              "\n",
              "  @keyframes spin {\n",
              "    0% {\n",
              "      border-color: transparent;\n",
              "      border-bottom-color: var(--fill-color);\n",
              "      border-left-color: var(--fill-color);\n",
              "    }\n",
              "    20% {\n",
              "      border-color: transparent;\n",
              "      border-left-color: var(--fill-color);\n",
              "      border-top-color: var(--fill-color);\n",
              "    }\n",
              "    30% {\n",
              "      border-color: transparent;\n",
              "      border-left-color: var(--fill-color);\n",
              "      border-top-color: var(--fill-color);\n",
              "      border-right-color: var(--fill-color);\n",
              "    }\n",
              "    40% {\n",
              "      border-color: transparent;\n",
              "      border-right-color: var(--fill-color);\n",
              "      border-top-color: var(--fill-color);\n",
              "    }\n",
              "    60% {\n",
              "      border-color: transparent;\n",
              "      border-right-color: var(--fill-color);\n",
              "    }\n",
              "    80% {\n",
              "      border-color: transparent;\n",
              "      border-right-color: var(--fill-color);\n",
              "      border-bottom-color: var(--fill-color);\n",
              "    }\n",
              "    90% {\n",
              "      border-color: transparent;\n",
              "      border-bottom-color: var(--fill-color);\n",
              "    }\n",
              "  }\n",
              "</style>\n",
              "\n",
              "  <script>\n",
              "    async function quickchart(key) {\n",
              "      const quickchartButtonEl =\n",
              "        document.querySelector('#' + key + ' button');\n",
              "      quickchartButtonEl.disabled = true;  // To prevent multiple clicks.\n",
              "      quickchartButtonEl.classList.add('colab-df-spinner');\n",
              "      try {\n",
              "        const charts = await google.colab.kernel.invokeFunction(\n",
              "            'suggestCharts', [key], {});\n",
              "      } catch (error) {\n",
              "        console.error('Error during call to suggestCharts:', error);\n",
              "      }\n",
              "      quickchartButtonEl.classList.remove('colab-df-spinner');\n",
              "      quickchartButtonEl.classList.add('colab-df-quickchart-complete');\n",
              "    }\n",
              "    (() => {\n",
              "      let quickchartButtonEl =\n",
              "        document.querySelector('#df-e27c2c03-6868-4004-abf3-f9073f86c722 button');\n",
              "      quickchartButtonEl.style.display =\n",
              "        google.colab.kernel.accessAllowed ? 'block' : 'none';\n",
              "    })();\n",
              "  </script>\n",
              "</div>\n",
              "\n",
              "    </div>\n",
              "  </div>\n"
            ],
            "application/vnd.google.colaboratory.intrinsic+json": {
              "type": "dataframe",
              "summary": "{\n  \"name\": \"example[['description',\\\"predicted_tags\\\",\\\"tags\\\"]]\",\n  \"rows\": 2,\n  \"fields\": [\n    {\n      \"column\": \"description\",\n      \"properties\": {\n        \"dtype\": \"string\",\n        \"num_unique_values\": 2,\n        \"samples\": [\n          \"d | other transaction rvsl of duplicated neft/cosmic intelligent l/unified payments/terw payment 06nov23\",\n          \"d | other transaction rvsl of duplicated neft/cosmic intelligent l/unified payments/terwvat payment 06nov23\"\n        ],\n        \"semantic_type\": \"\",\n        \"description\": \"\"\n      }\n    },\n    {\n      \"column\": \"predicted_tags\",\n      \"properties\": {\n        \"dtype\": \"string\",\n        \"num_unique_values\": 1,\n        \"samples\": [\n          \"transfers\"\n        ],\n        \"semantic_type\": \"\",\n        \"description\": \"\"\n      }\n    },\n    {\n      \"column\": \"tags\",\n      \"properties\": {\n        \"dtype\": \"string\",\n        \"num_unique_values\": 1,\n        \"samples\": [\n          \"withdrawals\"\n        ],\n        \"semantic_type\": \"\",\n        \"description\": \"\"\n      }\n    }\n  ]\n}"
            }
          },
          "metadata": {},
          "execution_count": 122
        }
      ]
    },
    {
      "cell_type": "code",
      "source": [
        "# @title Load data to google Drive\n",
        "\n",
        "# Specify the path to save the file\n",
        "file_path = '/content/drive/MyDrive/Classification_MLs/data/output/NombaGTB_FSP_ouput2.csv'\n",
        "\n",
        "# Save the DataFrame to the specified location\n",
        "NombaGTB_FSP_ouput2.to_csv(file_path, index=False)"
      ],
      "metadata": {
        "id": "U2muJBTv66P6"
      },
      "execution_count": 134,
      "outputs": []
    },
    {
      "cell_type": "markdown",
      "source": [],
      "metadata": {
        "id": "092g7Pfm214o"
      }
    }
  ]
}